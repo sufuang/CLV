{
 "cells": [
  {
   "cell_type": "code",
   "execution_count": 2,
   "metadata": {},
   "outputs": [],
   "source": [
    "import pandas as pd\n",
    "import scipy.sparse as sparse\n",
    "import numpy as np\n",
    "import random\n",
    "import implicit\n",
    "from sklearn.preprocessing import MinMaxScaler"
   ]
  },
  {
   "cell_type": "code",
   "execution_count": 3,
   "metadata": {},
   "outputs": [],
   "source": [
    "articles_df = pd.read_csv('shared_articles.csv')\n",
    "interactions_df = pd.read_csv('users_interactions.csv')\n",
    "articles_df.drop(['authorUserAgent', 'authorRegion', 'authorCountry'], axis=1, inplace=True)\n",
    "interactions_df.drop(['userAgent', 'userRegion', 'userCountry'], axis=1, inplace=True)\n"
   ]
  },
  {
   "cell_type": "code",
   "execution_count": 4,
   "metadata": {},
   "outputs": [
    {
     "data": {
      "text/plain": [
       "VIEW               61043\n",
       "LIKE                5745\n",
       "BOOKMARK            2463\n",
       "COMMENT CREATED     1611\n",
       "FOLLOW              1407\n",
       "Name: eventType, dtype: int64"
      ]
     },
     "execution_count": 4,
     "metadata": {},
     "output_type": "execute_result"
    }
   ],
   "source": [
    "articles_df = articles_df[articles_df['eventType'] == 'CONTENT SHARED']\n",
    "articles_df.drop('eventType', axis=1, inplace=True)\n",
    "df = pd.merge(interactions_df[['contentId','personId', 'eventType']], articles_df[['contentId', 'title']], how = 'inner', on = 'contentId')\n",
    "\n",
    "df['eventType'].value_counts()"
   ]
  },
  {
   "cell_type": "code",
   "execution_count": 5,
   "metadata": {},
   "outputs": [],
   "source": [
    "event_type_strength = {\n",
    "   'VIEW': 1.0,\n",
    "   'LIKE': 2.0, \n",
    "   'BOOKMARK': 3.0, \n",
    "   'FOLLOW': 4.0,\n",
    "   'COMMENT CREATED': 5.0,  \n",
    "}\n",
    "df['eventStrength'] = df['eventType'].apply(lambda x: event_type_strength[x])"
   ]
  },
  {
   "cell_type": "code",
   "execution_count": 6,
   "metadata": {},
   "outputs": [
    {
     "data": {
      "text/html": [
       "<div>\n",
       "<style scoped>\n",
       "    .dataframe tbody tr th:only-of-type {\n",
       "        vertical-align: middle;\n",
       "    }\n",
       "\n",
       "    .dataframe tbody tr th {\n",
       "        vertical-align: top;\n",
       "    }\n",
       "\n",
       "    .dataframe thead th {\n",
       "        text-align: right;\n",
       "    }\n",
       "</style>\n",
       "<table border=\"1\" class=\"dataframe\">\n",
       "  <thead>\n",
       "    <tr style=\"text-align: right;\">\n",
       "      <th></th>\n",
       "      <th>personId</th>\n",
       "      <th>contentId</th>\n",
       "      <th>title</th>\n",
       "      <th>eventStrength</th>\n",
       "    </tr>\n",
       "  </thead>\n",
       "  <tbody>\n",
       "    <tr>\n",
       "      <th>16240</th>\n",
       "      <td>-1443636648652872475</td>\n",
       "      <td>-4974757204495953627</td>\n",
       "      <td>Alecrim/AlecrimCoreData</td>\n",
       "      <td>1.0</td>\n",
       "    </tr>\n",
       "    <tr>\n",
       "      <th>36531</th>\n",
       "      <td>7047489233409645826</td>\n",
       "      <td>991271693336573226</td>\n",
       "      <td>Este é o melhor jeito de entender como as mulh...</td>\n",
       "      <td>3.0</td>\n",
       "    </tr>\n",
       "    <tr>\n",
       "      <th>20151</th>\n",
       "      <td>-108842214936804958</td>\n",
       "      <td>4575580212020245658</td>\n",
       "      <td>Conversational Banking; from branches to bots....</td>\n",
       "      <td>1.0</td>\n",
       "    </tr>\n",
       "    <tr>\n",
       "      <th>10689</th>\n",
       "      <td>-3596626804281480007</td>\n",
       "      <td>18738895644634365</td>\n",
       "      <td>Bot do Facebook Messenger simula entrevista pa...</td>\n",
       "      <td>5.0</td>\n",
       "    </tr>\n",
       "    <tr>\n",
       "      <th>34183</th>\n",
       "      <td>5621833459783231486</td>\n",
       "      <td>5338677278233757627</td>\n",
       "      <td>How to Get a Job at Google</td>\n",
       "      <td>1.0</td>\n",
       "    </tr>\n",
       "    <tr>\n",
       "      <th>1893</th>\n",
       "      <td>-8620763856232712186</td>\n",
       "      <td>9124439338148818380</td>\n",
       "      <td>How to build a robot that \"sees\" with $100 and...</td>\n",
       "      <td>1.0</td>\n",
       "    </tr>\n",
       "    <tr>\n",
       "      <th>26676</th>\n",
       "      <td>2785512916786763092</td>\n",
       "      <td>6044362651232258738</td>\n",
       "      <td>Cinco competências comportamentais para você s...</td>\n",
       "      <td>1.0</td>\n",
       "    </tr>\n",
       "    <tr>\n",
       "      <th>16437</th>\n",
       "      <td>-1443636648652872475</td>\n",
       "      <td>1286723199785027310</td>\n",
       "      <td>The Skills You'll Need and the Salary You Can ...</td>\n",
       "      <td>2.0</td>\n",
       "    </tr>\n",
       "    <tr>\n",
       "      <th>12708</th>\n",
       "      <td>-2979537012405607453</td>\n",
       "      <td>-2059465483219605309</td>\n",
       "      <td>[Free Online Course] Sit Less, Get Active - Th...</td>\n",
       "      <td>1.0</td>\n",
       "    </tr>\n",
       "    <tr>\n",
       "      <th>38393</th>\n",
       "      <td>8051175896420731576</td>\n",
       "      <td>-8950763842769120954</td>\n",
       "      <td>Mobify report reveals impact of mobile website...</td>\n",
       "      <td>1.0</td>\n",
       "    </tr>\n",
       "  </tbody>\n",
       "</table>\n",
       "</div>"
      ],
      "text/plain": [
       "                  personId            contentId  \\\n",
       "16240 -1443636648652872475 -4974757204495953627   \n",
       "36531  7047489233409645826   991271693336573226   \n",
       "20151  -108842214936804958  4575580212020245658   \n",
       "10689 -3596626804281480007    18738895644634365   \n",
       "34183  5621833459783231486  5338677278233757627   \n",
       "1893  -8620763856232712186  9124439338148818380   \n",
       "26676  2785512916786763092  6044362651232258738   \n",
       "16437 -1443636648652872475  1286723199785027310   \n",
       "12708 -2979537012405607453 -2059465483219605309   \n",
       "38393  8051175896420731576 -8950763842769120954   \n",
       "\n",
       "                                                   title  eventStrength  \n",
       "16240                            Alecrim/AlecrimCoreData            1.0  \n",
       "36531  Este é o melhor jeito de entender como as mulh...            3.0  \n",
       "20151  Conversational Banking; from branches to bots....            1.0  \n",
       "10689  Bot do Facebook Messenger simula entrevista pa...            5.0  \n",
       "34183                         How to Get a Job at Google            1.0  \n",
       "1893   How to build a robot that \"sees\" with $100 and...            1.0  \n",
       "26676  Cinco competências comportamentais para você s...            1.0  \n",
       "16437  The Skills You'll Need and the Salary You Can ...            2.0  \n",
       "12708  [Free Online Course] Sit Less, Get Active - Th...            1.0  \n",
       "38393  Mobify report reveals impact of mobile website...            1.0  "
      ]
     },
     "execution_count": 6,
     "metadata": {},
     "output_type": "execute_result"
    }
   ],
   "source": [
    "grouped_df = df.groupby(['personId', 'contentId', 'title']).sum().reset_index()\n",
    "grouped_df.sample(10)"
   ]
  },
  {
   "cell_type": "code",
   "execution_count": 7,
   "metadata": {},
   "outputs": [],
   "source": [
    "grouped_df['title'] = grouped_df['title'].astype(\"category\")\n",
    "grouped_df['personId'] = grouped_df['personId'].astype(\"category\")\n",
    "grouped_df['contentId'] = grouped_df['contentId'].astype(\"category\")\n",
    "grouped_df['person_id'] = grouped_df['personId'].cat.codes\n",
    "grouped_df['content_id'] = grouped_df['contentId'].cat.codes\n"
   ]
  },
  {
   "cell_type": "code",
   "execution_count": null,
   "metadata": {},
   "outputs": [],
   "source": []
  }
 ],
 "metadata": {
  "kernelspec": {
   "display_name": "Python 3",
   "language": "python",
   "name": "python3"
  },
  "language_info": {
   "codemirror_mode": {
    "name": "ipython",
    "version": 3
   },
   "file_extension": ".py",
   "mimetype": "text/x-python",
   "name": "python",
   "nbconvert_exporter": "python",
   "pygments_lexer": "ipython3",
   "version": "3.7.3"
  }
 },
 "nbformat": 4,
 "nbformat_minor": 2
}
